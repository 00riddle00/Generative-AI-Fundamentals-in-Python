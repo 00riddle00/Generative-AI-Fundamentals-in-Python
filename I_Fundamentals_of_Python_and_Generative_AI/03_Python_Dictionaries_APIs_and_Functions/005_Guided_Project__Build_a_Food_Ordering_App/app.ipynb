{
 "cells": [
  {
   "cell_type": "markdown",
   "id": "70941959-5b27-4733-92cd-e3a71f94674d",
   "metadata": {},
   "source": [
    "# Food Ordering Application"
   ]
  },
  {
   "cell_type": "markdown",
   "id": "93327573-37da-4982-a69b-2577fbc59427",
   "metadata": {},
   "source": [
    "#### Global variables and constants"
   ]
  },
  {
   "cell_type": "code",
   "execution_count": 1,
   "id": "655fd4e1-6976-42e1-9414-2810c2d1f3c7",
   "metadata": {},
   "outputs": [],
   "source": [
    "app_name = \"Gourmet Express\"\n",
    "\n",
    "menu = {\n",
    "    \"sku1\": {\"name\": \"Hamburger\", \"price\": 6.51},\n",
    "    \"sku2\": {\"name\": \"Cheeseburger\", \"price\": 7.75},\n",
    "    \"sku3\": {\"name\": \"Milkshake\", \"price\": 5.99},\n",
    "    \"sku4\": {\"name\": \"Fries\", \"price\": 2.39},\n",
    "    \"sku5\": {\"name\": \"Sub\", \"price\": 5.87},\n",
    "    \"sku6\": {\"name\": \"Ice Cream\", \"price\": 1.55},\n",
    "    \"sku7\": {\"name\": \"Fountain Drink\", \"price\": 3.45},\n",
    "    \"sku8\": {\"name\": \"Cookie\", \"price\": 3.15},\n",
    "    \"sku9\": {\"name\": \"Brownie\", \"price\": 2.46},\n",
    "    \"sku10\": {\"name\": \"Sauce\", \"price\": 0.75},\n",
    "}\n",
    "\n",
    "actions = {\n",
    "    1: \"Add a new menu item to cart\",\n",
    "    2: \"Remove an item from the cart\",\n",
    "    3: \"Modify a cart item's quantity\",\n",
    "    4: \"View cart\",\n",
    "    5: \"Checkout\",\n",
    "    6: \"Exit\",\n",
    "}\n",
    "\n",
    "sales_tax_rate = 0.07  # 7% sales tax\n",
    "\n",
    "cart = {}"
   ]
  },
  {
   "cell_type": "markdown",
   "id": "201102c9-b8dd-45af-9697-1ee15a497488",
   "metadata": {},
   "source": [
    "#### Display the menu"
   ]
  },
  {
   "cell_type": "code",
   "execution_count": 2,
   "id": "f4328e8f-3552-4033-9f25-31736dd656d1",
   "metadata": {},
   "outputs": [],
   "source": [
    "def display_menu():\n",
    "    print(\"\\n**** Menu ****\\n\")\n",
    "    for sku in menu:\n",
    "        sku_number = sku[3:]\n",
    "        item_name = menu[sku][\"name\"]\n",
    "        item_price = menu[sku][\"price\"]\n",
    "        print(f\"({sku_number}) {item_name}: ${item_price:.2f}\")"
   ]
  },
  {
   "cell_type": "markdown",
   "id": "5a2cf5a0-10ba-4057-9561-8dd0279db489",
   "metadata": {},
   "source": [
    "#### Add an SKU and quantity to the cart"
   ]
  },
  {
   "cell_type": "code",
   "execution_count": 3,
   "id": "b6387a62-fadb-417d-9f88-6bfe954a0061",
   "metadata": {},
   "outputs": [],
   "source": [
    "def add_to_cart(sku, quantity):\n",
    "    if sku in menu:\n",
    "        if sku in cart:\n",
    "            cart[sku] += quantity\n",
    "        else:\n",
    "            cart[sku] = quantity\n",
    "        print(f\"\\nAdded {quantity} of {menu[sku]['name']} to the cart.\\n\")\n",
    "    else:\n",
    "        print(\"\\nError: Invalid menu item SKU.\\n\")"
   ]
  },
  {
   "cell_type": "markdown",
   "id": "0de491f6-c46d-476e-86fd-784fe02c056b",
   "metadata": {},
   "source": [
    "#### Remove an SKU from the cart"
   ]
  },
  {
   "cell_type": "code",
   "execution_count": 4,
   "id": "5003550d-4583-4bbc-8480-65481f0efcfb",
   "metadata": {},
   "outputs": [],
   "source": [
    "def remove_from_cart(sku):\n",
    "    if sku in cart:\n",
    "        removed_item = cart.pop(sku)\n",
    "        print(f\"\\nRemoved {menu[sku]['name']} from the cart.\\n\")\n",
    "    else:\n",
    "        print(\"\\nError: Item not found in the cart.\\n\")"
   ]
  },
  {
   "cell_type": "markdown",
   "id": "3a42a8f8-ab8e-4942-89c3-aec62c13669c",
   "metadata": {},
   "source": [
    "#### Modify the quantity of an SKU in the cart"
   ]
  },
  {
   "cell_type": "code",
   "execution_count": 5,
   "id": "c819af7b-f1e2-4e03-8c05-5c8562e7bacc",
   "metadata": {},
   "outputs": [],
   "source": [
    "def modify_cart(sku, quantity):\n",
    "    if sku in cart:\n",
    "        if quantity > 0:\n",
    "            cart[sku] = quantity\n",
    "            print(\n",
    "                f\"\\nModified {menu[sku]['name']} quantity to {quantity} in the cart.\\n\"\n",
    "            )\n",
    "        else:\n",
    "            remove_from_cart(sku)\n",
    "    else:\n",
    "        print(\"\\nError: Item not found in the cart.\\n\")"
   ]
  },
  {
   "cell_type": "markdown",
   "id": "a195d9a5-d061-409e-b018-7741022f71f8",
   "metadata": {},
   "source": [
    "#### Display the cart contents"
   ]
  },
  {
   "cell_type": "code",
   "execution_count": 6,
   "id": "f6a8fc53-81a4-4764-ac12-f4fbbc81ed63",
   "metadata": {},
   "outputs": [],
   "source": [
    "def view_cart():\n",
    "    print(\"\\n**** Cart Contents ****\\n\")\n",
    "    subtotal = 0.0\n",
    "    for sku in cart:\n",
    "        if sku in menu:\n",
    "            quantity = cart[sku]\n",
    "            item_total = menu[sku][\"price\"] * quantity\n",
    "            subtotal += item_total\n",
    "            print(f\"{quantity} x {menu[sku]['name']}\")\n",
    "    tax = subtotal * sales_tax_rate\n",
    "    total = subtotal + tax\n",
    "    print(f\"\\nTotal: ${total:.2f}\\n\")"
   ]
  },
  {
   "cell_type": "markdown",
   "id": "6b4d6aeb-f92c-401a-869f-7102476cd46b",
   "metadata": {},
   "source": [
    "#### Perform the checkout"
   ]
  },
  {
   "cell_type": "code",
   "execution_count": 7,
   "id": "92ab8ee9-b8ce-422f-9140-50463ae8ae0a",
   "metadata": {},
   "outputs": [],
   "source": [
    "def checkout():\n",
    "    print(\"\\n**** Checkout ****\\n\")\n",
    "    view_cart()\n",
    "    print(\"Thank you! Your order has been received and is being processed.\")"
   ]
  },
  {
   "cell_type": "markdown",
   "id": "c590dc09-ff68-423f-94a1-bebd97745a44",
   "metadata": {},
   "source": [
    "#### Get SKU and quantity"
   ]
  },
  {
   "cell_type": "code",
   "execution_count": 8,
   "id": "82ea1214-bbe6-4c6c-b144-7590f29fe06a",
   "metadata": {},
   "outputs": [],
   "source": [
    "def get_sku_and_quantity(sku_prompt, quantity_prompt=None):\n",
    "    sku_input = input(sku_prompt)\n",
    "    sku = \"sku\" + sku_input\n",
    "\n",
    "    if quantity_prompt is not None:\n",
    "        quantity_input = input(quantity_prompt)\n",
    "        if quantity_input.isdigit():\n",
    "            quantity = int(quantity_input)\n",
    "        else:\n",
    "            quantity = 1  # Default value if not a valid digit\n",
    "\n",
    "        return sku, quantity\n",
    "\n",
    "    return sku"
   ]
  },
  {
   "cell_type": "markdown",
   "id": "58bfa136-8f39-4654-bb71-d587f03e2145",
   "metadata": {},
   "source": [
    "#### Run the app loop"
   ]
  },
  {
   "cell_type": "code",
   "execution_count": 9,
   "id": "c7e17a66-8c73-488c-a3d3-5b70cd5d2786",
   "metadata": {},
   "outputs": [],
   "source": [
    "def run_ordering_app():\n",
    "    print(f\"Welcome to {app_name}!\")\n",
    "\n",
    "    app_running = True\n",
    "\n",
    "    while app_running:\n",
    "        print(\"\\n**** Ordering Actions ****\\n\")\n",
    "        for action_number, action_description in actions.items():\n",
    "            print(f\"({action_number}) {action_description}\")\n",
    "\n",
    "        user_input = input(\"\\nPlease enter the number of the action you want to take: \")\n",
    "\n",
    "        if user_input == \"1\":\n",
    "            display_menu()\n",
    "            sku, quantity = get_sku_and_quantity(\n",
    "                \"Please enter the SKU number for the menu item you want to order: \",\n",
    "                \"Please enter the quantity: \",\n",
    "            )\n",
    "            add_to_cart(sku, quantity)\n",
    "\n",
    "        elif user_input == \"2\":\n",
    "            display_menu()\n",
    "            sku = get_sku_and_quantity(\n",
    "                \"Please enter the SKU number for the menu item you want to remove: \"\n",
    "            )\n",
    "            remove_from_cart(sku)\n",
    "\n",
    "        elif user_input == \"3\":\n",
    "            display_menu()\n",
    "            sku, quantity = get_sku_and_quantity(\n",
    "                \"Please enter the SKU number for the menu item you want to modify: \",\n",
    "                \"Please enter the new quantity: \",\n",
    "            )\n",
    "            modify_cart(sku, quantity)\n",
    "\n",
    "        elif user_input == \"4\":\n",
    "            view_cart()\n",
    "\n",
    "        elif user_input == \"5\":\n",
    "            checkout()\n",
    "            app_running = False\n",
    "\n",
    "        elif user_input == \"6\":\n",
    "            app_running = False\n",
    "\n",
    "        else:\n",
    "            print(\"\\nError: Invalid action. Please enter a number from 1 to 6.\")"
   ]
  },
  {
   "cell_type": "markdown",
   "id": "029bd49f-a31a-4f7d-9792-702573e833a5",
   "metadata": {},
   "source": [
    "#### Start the application"
   ]
  },
  {
   "cell_type": "code",
   "execution_count": 10,
   "id": "aba5d1b1-515e-4dd0-9aa9-f9023d654c22",
   "metadata": {},
   "outputs": [
    {
     "name": "stdout",
     "output_type": "stream",
     "text": [
      "Welcome to Gourmet Express!\n",
      "\n",
      "**** Ordering Actions ****\n",
      "\n",
      "(1) Add a new menu item to cart\n",
      "(2) Remove an item from the cart\n",
      "(3) Modify a cart item's quantity\n",
      "(4) View cart\n",
      "(5) Checkout\n",
      "(6) Exit\n"
     ]
    },
    {
     "name": "stdin",
     "output_type": "stream",
     "text": [
      "\n",
      "Please enter the number of the action you want to take:  1\n"
     ]
    },
    {
     "name": "stdout",
     "output_type": "stream",
     "text": [
      "\n",
      "**** Menu ****\n",
      "\n",
      "(1) Hamburger: $6.51\n",
      "(2) Cheeseburger: $7.75\n",
      "(3) Milkshake: $5.99\n",
      "(4) Fries: $2.39\n",
      "(5) Sub: $5.87\n",
      "(6) Ice Cream: $1.55\n",
      "(7) Fountain Drink: $3.45\n",
      "(8) Cookie: $3.15\n",
      "(9) Brownie: $2.46\n",
      "(10) Sauce: $0.75\n"
     ]
    },
    {
     "name": "stdin",
     "output_type": "stream",
     "text": [
      "Please enter the SKU number for the menu item you want to order:  1\n",
      "Please enter the quantity:  4\n"
     ]
    },
    {
     "name": "stdout",
     "output_type": "stream",
     "text": [
      "\n",
      "Added 4 of Hamburger to the cart.\n",
      "\n",
      "\n",
      "**** Ordering Actions ****\n",
      "\n",
      "(1) Add a new menu item to cart\n",
      "(2) Remove an item from the cart\n",
      "(3) Modify a cart item's quantity\n",
      "(4) View cart\n",
      "(5) Checkout\n",
      "(6) Exit\n"
     ]
    },
    {
     "name": "stdin",
     "output_type": "stream",
     "text": [
      "\n",
      "Please enter the number of the action you want to take:  4\n"
     ]
    },
    {
     "name": "stdout",
     "output_type": "stream",
     "text": [
      "\n",
      "**** Cart Contents ****\n",
      "\n",
      "4 x Hamburger\n",
      "\n",
      "Total: $27.86\n",
      "\n",
      "\n",
      "**** Ordering Actions ****\n",
      "\n",
      "(1) Add a new menu item to cart\n",
      "(2) Remove an item from the cart\n",
      "(3) Modify a cart item's quantity\n",
      "(4) View cart\n",
      "(5) Checkout\n",
      "(6) Exit\n"
     ]
    },
    {
     "name": "stdin",
     "output_type": "stream",
     "text": [
      "\n",
      "Please enter the number of the action you want to take:  1\n"
     ]
    },
    {
     "name": "stdout",
     "output_type": "stream",
     "text": [
      "\n",
      "**** Menu ****\n",
      "\n",
      "(1) Hamburger: $6.51\n",
      "(2) Cheeseburger: $7.75\n",
      "(3) Milkshake: $5.99\n",
      "(4) Fries: $2.39\n",
      "(5) Sub: $5.87\n",
      "(6) Ice Cream: $1.55\n",
      "(7) Fountain Drink: $3.45\n",
      "(8) Cookie: $3.15\n",
      "(9) Brownie: $2.46\n",
      "(10) Sauce: $0.75\n"
     ]
    },
    {
     "name": "stdin",
     "output_type": "stream",
     "text": [
      "Please enter the SKU number for the menu item you want to order:  4\n",
      "Please enter the quantity:  4\n"
     ]
    },
    {
     "name": "stdout",
     "output_type": "stream",
     "text": [
      "\n",
      "Added 4 of Fries to the cart.\n",
      "\n",
      "\n",
      "**** Ordering Actions ****\n",
      "\n",
      "(1) Add a new menu item to cart\n",
      "(2) Remove an item from the cart\n",
      "(3) Modify a cart item's quantity\n",
      "(4) View cart\n",
      "(5) Checkout\n",
      "(6) Exit\n"
     ]
    },
    {
     "name": "stdin",
     "output_type": "stream",
     "text": [
      "\n",
      "Please enter the number of the action you want to take:  1\n"
     ]
    },
    {
     "name": "stdout",
     "output_type": "stream",
     "text": [
      "\n",
      "**** Menu ****\n",
      "\n",
      "(1) Hamburger: $6.51\n",
      "(2) Cheeseburger: $7.75\n",
      "(3) Milkshake: $5.99\n",
      "(4) Fries: $2.39\n",
      "(5) Sub: $5.87\n",
      "(6) Ice Cream: $1.55\n",
      "(7) Fountain Drink: $3.45\n",
      "(8) Cookie: $3.15\n",
      "(9) Brownie: $2.46\n",
      "(10) Sauce: $0.75\n"
     ]
    },
    {
     "name": "stdin",
     "output_type": "stream",
     "text": [
      "Please enter the SKU number for the menu item you want to order:  7\n",
      "Please enter the quantity:  4\n"
     ]
    },
    {
     "name": "stdout",
     "output_type": "stream",
     "text": [
      "\n",
      "Added 4 of Fountain Drink to the cart.\n",
      "\n",
      "\n",
      "**** Ordering Actions ****\n",
      "\n",
      "(1) Add a new menu item to cart\n",
      "(2) Remove an item from the cart\n",
      "(3) Modify a cart item's quantity\n",
      "(4) View cart\n",
      "(5) Checkout\n",
      "(6) Exit\n"
     ]
    },
    {
     "name": "stdin",
     "output_type": "stream",
     "text": [
      "\n",
      "Please enter the number of the action you want to take:  4\n"
     ]
    },
    {
     "name": "stdout",
     "output_type": "stream",
     "text": [
      "\n",
      "**** Cart Contents ****\n",
      "\n",
      "4 x Hamburger\n",
      "4 x Fries\n",
      "4 x Fountain Drink\n",
      "\n",
      "Total: $52.86\n",
      "\n",
      "\n",
      "**** Ordering Actions ****\n",
      "\n",
      "(1) Add a new menu item to cart\n",
      "(2) Remove an item from the cart\n",
      "(3) Modify a cart item's quantity\n",
      "(4) View cart\n",
      "(5) Checkout\n",
      "(6) Exit\n"
     ]
    },
    {
     "name": "stdin",
     "output_type": "stream",
     "text": [
      "\n",
      "Please enter the number of the action you want to take:  1\n"
     ]
    },
    {
     "name": "stdout",
     "output_type": "stream",
     "text": [
      "\n",
      "**** Menu ****\n",
      "\n",
      "(1) Hamburger: $6.51\n",
      "(2) Cheeseburger: $7.75\n",
      "(3) Milkshake: $5.99\n",
      "(4) Fries: $2.39\n",
      "(5) Sub: $5.87\n",
      "(6) Ice Cream: $1.55\n",
      "(7) Fountain Drink: $3.45\n",
      "(8) Cookie: $3.15\n",
      "(9) Brownie: $2.46\n",
      "(10) Sauce: $0.75\n"
     ]
    },
    {
     "name": "stdin",
     "output_type": "stream",
     "text": [
      "Please enter the SKU number for the menu item you want to order:  3\n",
      "Please enter the quantity:  4\n"
     ]
    },
    {
     "name": "stdout",
     "output_type": "stream",
     "text": [
      "\n",
      "Added 4 of Milkshake to the cart.\n",
      "\n",
      "\n",
      "**** Ordering Actions ****\n",
      "\n",
      "(1) Add a new menu item to cart\n",
      "(2) Remove an item from the cart\n",
      "(3) Modify a cart item's quantity\n",
      "(4) View cart\n",
      "(5) Checkout\n",
      "(6) Exit\n"
     ]
    },
    {
     "name": "stdin",
     "output_type": "stream",
     "text": [
      "\n",
      "Please enter the number of the action you want to take:  2\n"
     ]
    },
    {
     "name": "stdout",
     "output_type": "stream",
     "text": [
      "\n",
      "**** Menu ****\n",
      "\n",
      "(1) Hamburger: $6.51\n",
      "(2) Cheeseburger: $7.75\n",
      "(3) Milkshake: $5.99\n",
      "(4) Fries: $2.39\n",
      "(5) Sub: $5.87\n",
      "(6) Ice Cream: $1.55\n",
      "(7) Fountain Drink: $3.45\n",
      "(8) Cookie: $3.15\n",
      "(9) Brownie: $2.46\n",
      "(10) Sauce: $0.75\n"
     ]
    },
    {
     "name": "stdin",
     "output_type": "stream",
     "text": [
      "Please enter the SKU number for the menu item you want to remove:  7\n"
     ]
    },
    {
     "name": "stdout",
     "output_type": "stream",
     "text": [
      "\n",
      "Removed Fountain Drink from the cart.\n",
      "\n",
      "\n",
      "**** Ordering Actions ****\n",
      "\n",
      "(1) Add a new menu item to cart\n",
      "(2) Remove an item from the cart\n",
      "(3) Modify a cart item's quantity\n",
      "(4) View cart\n",
      "(5) Checkout\n",
      "(6) Exit\n"
     ]
    },
    {
     "name": "stdin",
     "output_type": "stream",
     "text": [
      "\n",
      "Please enter the number of the action you want to take:  4\n"
     ]
    },
    {
     "name": "stdout",
     "output_type": "stream",
     "text": [
      "\n",
      "**** Cart Contents ****\n",
      "\n",
      "4 x Hamburger\n",
      "4 x Fries\n",
      "4 x Milkshake\n",
      "\n",
      "Total: $63.73\n",
      "\n",
      "\n",
      "**** Ordering Actions ****\n",
      "\n",
      "(1) Add a new menu item to cart\n",
      "(2) Remove an item from the cart\n",
      "(3) Modify a cart item's quantity\n",
      "(4) View cart\n",
      "(5) Checkout\n",
      "(6) Exit\n"
     ]
    },
    {
     "name": "stdin",
     "output_type": "stream",
     "text": [
      "\n",
      "Please enter the number of the action you want to take:  3\n"
     ]
    },
    {
     "name": "stdout",
     "output_type": "stream",
     "text": [
      "\n",
      "**** Menu ****\n",
      "\n",
      "(1) Hamburger: $6.51\n",
      "(2) Cheeseburger: $7.75\n",
      "(3) Milkshake: $5.99\n",
      "(4) Fries: $2.39\n",
      "(5) Sub: $5.87\n",
      "(6) Ice Cream: $1.55\n",
      "(7) Fountain Drink: $3.45\n",
      "(8) Cookie: $3.15\n",
      "(9) Brownie: $2.46\n",
      "(10) Sauce: $0.75\n"
     ]
    },
    {
     "name": "stdin",
     "output_type": "stream",
     "text": [
      "Please enter the SKU number for the menu item you want to modify:  1\n",
      "Please enter the new quantity:  2\n"
     ]
    },
    {
     "name": "stdout",
     "output_type": "stream",
     "text": [
      "\n",
      "Modified Hamburger quantity to 2 in the cart.\n",
      "\n",
      "\n",
      "**** Ordering Actions ****\n",
      "\n",
      "(1) Add a new menu item to cart\n",
      "(2) Remove an item from the cart\n",
      "(3) Modify a cart item's quantity\n",
      "(4) View cart\n",
      "(5) Checkout\n",
      "(6) Exit\n"
     ]
    },
    {
     "name": "stdin",
     "output_type": "stream",
     "text": [
      "\n",
      "Please enter the number of the action you want to take:  1\n"
     ]
    },
    {
     "name": "stdout",
     "output_type": "stream",
     "text": [
      "\n",
      "**** Menu ****\n",
      "\n",
      "(1) Hamburger: $6.51\n",
      "(2) Cheeseburger: $7.75\n",
      "(3) Milkshake: $5.99\n",
      "(4) Fries: $2.39\n",
      "(5) Sub: $5.87\n",
      "(6) Ice Cream: $1.55\n",
      "(7) Fountain Drink: $3.45\n",
      "(8) Cookie: $3.15\n",
      "(9) Brownie: $2.46\n",
      "(10) Sauce: $0.75\n"
     ]
    },
    {
     "name": "stdin",
     "output_type": "stream",
     "text": [
      "Please enter the SKU number for the menu item you want to order:  5\n",
      "Please enter the quantity:  2\n"
     ]
    },
    {
     "name": "stdout",
     "output_type": "stream",
     "text": [
      "\n",
      "Added 2 of Sub to the cart.\n",
      "\n",
      "\n",
      "**** Ordering Actions ****\n",
      "\n",
      "(1) Add a new menu item to cart\n",
      "(2) Remove an item from the cart\n",
      "(3) Modify a cart item's quantity\n",
      "(4) View cart\n",
      "(5) Checkout\n",
      "(6) Exit\n"
     ]
    },
    {
     "name": "stdin",
     "output_type": "stream",
     "text": [
      "\n",
      "Please enter the number of the action you want to take:  4\n"
     ]
    },
    {
     "name": "stdout",
     "output_type": "stream",
     "text": [
      "\n",
      "**** Cart Contents ****\n",
      "\n",
      "2 x Hamburger\n",
      "4 x Fries\n",
      "4 x Milkshake\n",
      "2 x Sub\n",
      "\n",
      "Total: $62.36\n",
      "\n",
      "\n",
      "**** Ordering Actions ****\n",
      "\n",
      "(1) Add a new menu item to cart\n",
      "(2) Remove an item from the cart\n",
      "(3) Modify a cart item's quantity\n",
      "(4) View cart\n",
      "(5) Checkout\n",
      "(6) Exit\n"
     ]
    },
    {
     "name": "stdin",
     "output_type": "stream",
     "text": [
      "\n",
      "Please enter the number of the action you want to take:  5\n"
     ]
    },
    {
     "name": "stdout",
     "output_type": "stream",
     "text": [
      "\n",
      "**** Checkout ****\n",
      "\n",
      "\n",
      "**** Cart Contents ****\n",
      "\n",
      "2 x Hamburger\n",
      "4 x Fries\n",
      "4 x Milkshake\n",
      "2 x Sub\n",
      "\n",
      "Total: $62.36\n",
      "\n",
      "Thank you! Your order has been received and is being processed.\n"
     ]
    }
   ],
   "source": [
    "run_ordering_app()"
   ]
  }
 ],
 "metadata": {
  "kernelspec": {
   "display_name": "Python 3 (ipykernel)",
   "language": "python",
   "name": "python3"
  },
  "language_info": {
   "codemirror_mode": {
    "name": "ipython",
    "version": 3
   },
   "file_extension": ".py",
   "mimetype": "text/x-python",
   "name": "python",
   "nbconvert_exporter": "python",
   "pygments_lexer": "ipython3",
   "version": "3.12.4"
  }
 },
 "nbformat": 4,
 "nbformat_minor": 5
}
